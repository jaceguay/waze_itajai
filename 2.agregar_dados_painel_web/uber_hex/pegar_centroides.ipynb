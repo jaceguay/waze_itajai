{
 "cells": [
  {
   "cell_type": "code",
   "execution_count": 2,
   "metadata": {},
   "outputs": [],
   "source": [
    "import geopandas as gpd\n",
    "import os\n"
   ]
  },
  {
   "cell_type": "code",
   "execution_count": 3,
   "metadata": {},
   "outputs": [],
   "source": [
    "\n",
    "def process_geojson_files(folder_path):\n",
    "    for filename in os.listdir(folder_path):\n",
    "        if filename.endswith('.geojson'):\n",
    "            file_path = os.path.join(folder_path, filename)\n",
    "            # Load GeoJSON file\n",
    "            gdf = gpd.read_file(file_path)\n",
    "            \n",
    "            # Calculate centroid and add as new properties\n",
    "            gdf['centroid_x'] = gdf.geometry.centroid.x\n",
    "            gdf['centroid_y'] = gdf.geometry.centroid.y\n",
    "            \n",
    "            # Save the modified GeoJSON file\n",
    "            gdf.to_file(file_path, driver='GeoJSON')\n"
   ]
  },
  {
   "cell_type": "code",
   "execution_count": 4,
   "metadata": {},
   "outputs": [
    {
     "name": "stderr",
     "output_type": "stream",
     "text": [
      "/var/folders/q0/nmrhlx6s3y7fptmpg86slb_80000gn/T/ipykernel_3565/808477424.py:9: UserWarning: Geometry is in a geographic CRS. Results from 'centroid' are likely incorrect. Use 'GeoSeries.to_crs()' to re-project geometries to a projected CRS before this operation.\n",
      "\n",
      "  gdf['centroid_x'] = gdf.geometry.centroid.x\n",
      "/var/folders/q0/nmrhlx6s3y7fptmpg86slb_80000gn/T/ipykernel_3565/808477424.py:10: UserWarning: Geometry is in a geographic CRS. Results from 'centroid' are likely incorrect. Use 'GeoSeries.to_crs()' to re-project geometries to a projected CRS before this operation.\n",
      "\n",
      "  gdf['centroid_y'] = gdf.geometry.centroid.y\n",
      "/var/folders/q0/nmrhlx6s3y7fptmpg86slb_80000gn/T/ipykernel_3565/808477424.py:9: UserWarning: Geometry is in a geographic CRS. Results from 'centroid' are likely incorrect. Use 'GeoSeries.to_crs()' to re-project geometries to a projected CRS before this operation.\n",
      "\n",
      "  gdf['centroid_x'] = gdf.geometry.centroid.x\n",
      "/var/folders/q0/nmrhlx6s3y7fptmpg86slb_80000gn/T/ipykernel_3565/808477424.py:10: UserWarning: Geometry is in a geographic CRS. Results from 'centroid' are likely incorrect. Use 'GeoSeries.to_crs()' to re-project geometries to a projected CRS before this operation.\n",
      "\n",
      "  gdf['centroid_y'] = gdf.geometry.centroid.y\n",
      "/var/folders/q0/nmrhlx6s3y7fptmpg86slb_80000gn/T/ipykernel_3565/808477424.py:9: UserWarning: Geometry is in a geographic CRS. Results from 'centroid' are likely incorrect. Use 'GeoSeries.to_crs()' to re-project geometries to a projected CRS before this operation.\n",
      "\n",
      "  gdf['centroid_x'] = gdf.geometry.centroid.x\n",
      "/var/folders/q0/nmrhlx6s3y7fptmpg86slb_80000gn/T/ipykernel_3565/808477424.py:10: UserWarning: Geometry is in a geographic CRS. Results from 'centroid' are likely incorrect. Use 'GeoSeries.to_crs()' to re-project geometries to a projected CRS before this operation.\n",
      "\n",
      "  gdf['centroid_y'] = gdf.geometry.centroid.y\n",
      "/var/folders/q0/nmrhlx6s3y7fptmpg86slb_80000gn/T/ipykernel_3565/808477424.py:9: UserWarning: Geometry is in a geographic CRS. Results from 'centroid' are likely incorrect. Use 'GeoSeries.to_crs()' to re-project geometries to a projected CRS before this operation.\n",
      "\n",
      "  gdf['centroid_x'] = gdf.geometry.centroid.x\n",
      "/var/folders/q0/nmrhlx6s3y7fptmpg86slb_80000gn/T/ipykernel_3565/808477424.py:10: UserWarning: Geometry is in a geographic CRS. Results from 'centroid' are likely incorrect. Use 'GeoSeries.to_crs()' to re-project geometries to a projected CRS before this operation.\n",
      "\n",
      "  gdf['centroid_y'] = gdf.geometry.centroid.y\n",
      "/var/folders/q0/nmrhlx6s3y7fptmpg86slb_80000gn/T/ipykernel_3565/808477424.py:9: UserWarning: Geometry is in a geographic CRS. Results from 'centroid' are likely incorrect. Use 'GeoSeries.to_crs()' to re-project geometries to a projected CRS before this operation.\n",
      "\n",
      "  gdf['centroid_x'] = gdf.geometry.centroid.x\n",
      "/var/folders/q0/nmrhlx6s3y7fptmpg86slb_80000gn/T/ipykernel_3565/808477424.py:10: UserWarning: Geometry is in a geographic CRS. Results from 'centroid' are likely incorrect. Use 'GeoSeries.to_crs()' to re-project geometries to a projected CRS before this operation.\n",
      "\n",
      "  gdf['centroid_y'] = gdf.geometry.centroid.y\n"
     ]
    }
   ],
   "source": [
    "\n",
    "folder_path = 'malhas' # Change this to the path of your folder\n",
    "process_geojson_files(folder_path)\n"
   ]
  }
 ],
 "metadata": {
  "kernelspec": {
   "display_name": "geo",
   "language": "python",
   "name": "python3"
  },
  "language_info": {
   "codemirror_mode": {
    "name": "ipython",
    "version": 3
   },
   "file_extension": ".py",
   "mimetype": "text/x-python",
   "name": "python",
   "nbconvert_exporter": "python",
   "pygments_lexer": "ipython3",
   "version": "3.11.4"
  },
  "orig_nbformat": 4
 },
 "nbformat": 4,
 "nbformat_minor": 2
}
