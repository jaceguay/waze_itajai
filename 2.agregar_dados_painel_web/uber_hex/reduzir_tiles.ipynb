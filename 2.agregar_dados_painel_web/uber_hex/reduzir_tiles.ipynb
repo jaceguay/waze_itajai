{
 "cells": [
  {
   "cell_type": "code",
   "execution_count": 1,
   "metadata": {},
   "outputs": [],
   "source": [
    "import json\n",
    "import os"
   ]
  },
  {
   "cell_type": "code",
   "execution_count": 2,
   "metadata": {},
   "outputs": [],
   "source": [
    "def set_precision(coordinates, precision):\n",
    "    if isinstance(coordinates, list):\n",
    "        return [set_precision(coord, precision) if isinstance(coord, list) else round(coord, precision) for coord in coordinates]\n",
    "    return coordinates\n",
    "\n",
    "def process_geojson_file(file_path):\n",
    "    with open(file_path, 'r') as file:\n",
    "        geojson_data = json.load(file)\n",
    "\n",
    "    for feature in geojson_data['features']:\n",
    "        feature['geometry']['coordinates'] = set_precision(feature['geometry']['coordinates'], 6)\n",
    "        if 'location' in feature['properties'] and isinstance(feature['properties']['location'], list):\n",
    "            feature['properties']['location'] = set_precision(feature['properties']['location'], 4)\n",
    "\n",
    "    new_file_path = os.path.splitext(file_path)[0] + '_.geojson'\n",
    "    with open(new_file_path, 'w') as file:\n",
    "        json.dump(geojson_data, file)\n",
    "\n",
    "    print(f\"Modified file saved to {new_file_path}\")\n",
    "\n",
    "folder_path = 'malhas' # Replace with the folder containing the GeoJSON files\n"
   ]
  },
  {
   "cell_type": "code",
   "execution_count": 3,
   "metadata": {},
   "outputs": [
    {
     "name": "stdout",
     "output_type": "stream",
     "text": [
      "Modified file saved to malhas/resolution_11_itajai_.geojson\n",
      "Processed file: malhas/resolution_11_itajai.geojson\n",
      "Modified file saved to malhas/resolution_10_itajai_.geojson\n",
      "Processed file: malhas/resolution_10_itajai.geojson\n",
      "Modified file saved to malhas/resolution_12_itajai_.geojson\n",
      "Processed file: malhas/resolution_12_itajai.geojson\n",
      "Modified file saved to malhas/resolution_9_itajai_.geojson\n",
      "Processed file: malhas/resolution_9_itajai.geojson\n",
      "Modified file saved to malhas/resolution_8_itajai_.geojson\n",
      "Processed file: malhas/resolution_8_itajai.geojson\n",
      "All GeoJSON files have been processed.\n"
     ]
    }
   ],
   "source": [
    "for filename in os.listdir(folder_path):\n",
    "    if filename.endswith('.geojson'):\n",
    "        file_path = os.path.join(folder_path, filename)\n",
    "        process_geojson_file(file_path)\n",
    "        print(f\"Processed file: {file_path}\")\n",
    "\n",
    "print(\"All GeoJSON files have been processed.\")"
   ]
  }
 ],
 "metadata": {
  "kernelspec": {
   "display_name": "geo",
   "language": "python",
   "name": "python3"
  },
  "language_info": {
   "codemirror_mode": {
    "name": "ipython",
    "version": 3
   },
   "file_extension": ".py",
   "mimetype": "text/x-python",
   "name": "python",
   "nbconvert_exporter": "python",
   "pygments_lexer": "ipython3",
   "version": "3.11.4"
  },
  "orig_nbformat": 4
 },
 "nbformat": 4,
 "nbformat_minor": 2
}
