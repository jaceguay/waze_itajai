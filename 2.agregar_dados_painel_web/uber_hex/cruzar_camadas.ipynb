{
 "cells": [
  {
   "cell_type": "code",
   "execution_count": 1,
   "metadata": {},
   "outputs": [],
   "source": [
    "import geopandas as gpd\n",
    "import os"
   ]
  },
  {
   "cell_type": "code",
   "execution_count": 2,
   "metadata": {},
   "outputs": [],
   "source": [
    "def process_geojson_files(folder_path, bairros_path):\n",
    "    # Load the bairros GeoDataFrame\n",
    "    bairros_gdf = gpd.read_file(bairros_path)\n",
    "\n",
    "    # Iterate through all GeoJSON files in the folder\n",
    "    for filename in os.listdir(folder_path):\n",
    "        if filename.endswith(\".geojson\"):\n",
    "            file_path = os.path.join(folder_path, filename)\n",
    "            \n",
    "            # Load the GeoJSON file\n",
    "            resolution_gdf = gpd.read_file(file_path)\n",
    "\n",
    "            # Function to find the overlapping polygon and return the corresponding 'nome'\n",
    "            def find_nome(row):\n",
    "                centroid = row['geometry'].centroid\n",
    "                overlapping_polygon = bairros_gdf[bairros_gdf['geometry'].contains(centroid)]\n",
    "                row['nome'] = overlapping_polygon['nome'].iloc[0] if not overlapping_polygon.empty else None\n",
    "                return row\n",
    "\n",
    "            # Apply the function to find the 'nome' and preserve original properties\n",
    "            resolution_gdf = resolution_gdf.apply(find_nome, axis=1)\n",
    "\n",
    "            # Save the modified GeoJSON file\n",
    "            output_path = os.path.join(folder_path, os.path.splitext(filename)[0] + \"_modified.geojson\")\n",
    "            resolution_gdf.to_file(output_path, driver=\"GeoJSON\")\n",
    "            print(f\"Modified file saved at {output_path}\")"
   ]
  },
  {
   "cell_type": "code",
   "execution_count": 3,
   "metadata": {},
   "outputs": [
    {
     "name": "stdout",
     "output_type": "stream",
     "text": [
      "Modified file saved at malhas/resolution_8_itajai__modified.geojson\n",
      "Modified file saved at malhas/resolution_12_itajai__modified.geojson\n",
      "Modified file saved at malhas/resolution_9_itajai__modified.geojson\n",
      "Modified file saved at malhas/resolution_11_itajai__modified.geojson\n",
      "Modified file saved at malhas/resolution_10_itajai__modified.geojson\n"
     ]
    }
   ],
   "source": [
    "folder_path = 'malhas'\n",
    "bairros_path = 'bairros.geojson'\n",
    "process_geojson_files(folder_path, bairros_path)"
   ]
  }
 ],
 "metadata": {
  "kernelspec": {
   "display_name": "geo",
   "language": "python",
   "name": "python3"
  },
  "language_info": {
   "codemirror_mode": {
    "name": "ipython",
    "version": 3
   },
   "file_extension": ".py",
   "mimetype": "text/x-python",
   "name": "python",
   "nbconvert_exporter": "python",
   "pygments_lexer": "ipython3",
   "version": "3.11.4"
  },
  "orig_nbformat": 4
 },
 "nbformat": 4,
 "nbformat_minor": 2
}
