{
 "cells": [
  {
   "cell_type": "code",
   "execution_count": 1,
   "metadata": {},
   "outputs": [],
   "source": [
    "import geopandas as gpd\n",
    "import os\n",
    "import math"
   ]
  },
  {
   "cell_type": "code",
   "execution_count": 2,
   "metadata": {},
   "outputs": [],
   "source": [
    "\n",
    "\n",
    "def truncate_to_4_decimal_places(value):\n",
    "    return math.trunc(value * 10000) / 10000\n",
    "\n",
    "def modify_geojson_files(directory_path):\n",
    "    for filename in os.listdir(directory_path):\n",
    "        if filename.endswith(\".geojson\"):\n",
    "            file_path = os.path.join(directory_path, filename)\n",
    "            geojson_data = gpd.read_file(file_path)\n",
    "            \n",
    "            # Truncating the centroid_x and centroid_y to 4 decimal places\n",
    "            geojson_data['centroid_x'] = geojson_data['centroid_x'].apply(truncate_to_4_decimal_places)\n",
    "            geojson_data['centroid_y'] = geojson_data['centroid_y'].apply(truncate_to_4_decimal_places)\n",
    "\n",
    "            # Defining the new filename\n",
    "            new_file_path = os.path.join(directory_path, filename.split('.')[0] + \"_truncated.geojson\")\n",
    "\n",
    "            # Saving the modified GeoDataFrame as a new GeoJSON file\n",
    "            geojson_data.to_file(new_file_path, driver=\"GeoJSON\")\n",
    "            print(f\"Modified file saved as {new_file_path}\")\n",
    "\n"
   ]
  },
  {
   "cell_type": "code",
   "execution_count": 4,
   "metadata": {},
   "outputs": [
    {
     "name": "stdout",
     "output_type": "stream",
     "text": [
      "Modified file saved as malhas/resolution_12_itajai__modified_truncated.geojson\n",
      "Modified file saved as malhas/resolution_11_itajai__modified_truncated.geojson\n",
      "Modified file saved as malhas/resolution_8_itajai__modified_truncated.geojson\n",
      "Modified file saved as malhas/resolution_9_itajai__modified_truncated.geojson\n",
      "Modified file saved as malhas/resolution_10_itajai__modified_truncated.geojson\n"
     ]
    }
   ],
   "source": [
    "\n",
    "# Example usage\n",
    "directory_path = 'malhas'\n",
    "modify_geojson_files(directory_path)\n"
   ]
  }
 ],
 "metadata": {
  "kernelspec": {
   "display_name": "geo",
   "language": "python",
   "name": "python3"
  },
  "language_info": {
   "codemirror_mode": {
    "name": "ipython",
    "version": 3
   },
   "file_extension": ".py",
   "mimetype": "text/x-python",
   "name": "python",
   "nbconvert_exporter": "python",
   "pygments_lexer": "ipython3",
   "version": "3.11.4"
  },
  "orig_nbformat": 4
 },
 "nbformat": 4,
 "nbformat_minor": 2
}
