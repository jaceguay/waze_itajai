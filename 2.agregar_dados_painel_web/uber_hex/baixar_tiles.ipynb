{
 "cells": [
  {
   "cell_type": "code",
   "execution_count": 1,
   "metadata": {},
   "outputs": [],
   "source": [
    "import h3\n",
    "import json\n",
    "from shapely.geometry import Polygon, mapping"
   ]
  },
  {
   "cell_type": "code",
   "execution_count": 2,
   "metadata": {},
   "outputs": [],
   "source": [
    "# Load the GeoJSON file\n",
    "with open('bbox.geojson', 'r') as file:\n",
    "    bounding_box_geojson = json.load(file)"
   ]
  },
  {
   "cell_type": "code",
   "execution_count": 3,
   "metadata": {},
   "outputs": [],
   "source": [
    "def hex_to_geojson(h):\n",
    "    boundary = h3.h3_to_geo_boundary(h, True)\n",
    "    polygon = Polygon(boundary)\n",
    "    return mapping(polygon)\n",
    "\n",
    "def generate_geojson_for_resolution(resolution, bounding_box_geojson):\n",
    "    # Extract the first feature's geometry (polygon) from the GeoJSON\n",
    "    bounding_polygon_geojson = bounding_box_geojson['features'][0]['geometry']\n",
    "    \n",
    "    # Generate hexagons for the bounding polygon at the specified resolution\n",
    "    hexagons = h3.polyfill(bounding_polygon_geojson, resolution, geo_json_conformant=True)\n",
    "    \n",
    "    features = []\n",
    "    for hexagon in hexagons:\n",
    "        geometry = hex_to_geojson(hexagon)\n",
    "        \n",
    "        # Get the centroid (location) of the hexagon\n",
    "        location = h3.h3_to_geo(hexagon)\n",
    "        \n",
    "        # Get the neighbors of the hexagon\n",
    "        neighbors = h3.k_ring(hexagon, 1)\n",
    "        \n",
    "        # Add index, neighbors, and location as properties\n",
    "        properties = {\n",
    "            \"index\": hexagon,\n",
    "            #\"neighbors\": [str(neighbor) for neighbor in neighbors if neighbor != hexagon],\n",
    "            \"location\": location\n",
    "        }\n",
    "        \n",
    "        features.append({'type': 'Feature', 'geometry': geometry, 'properties': properties})\n",
    "    \n",
    "    geojson = {'type': 'FeatureCollection', 'features': features}\n",
    "    \n",
    "    with open(f'resolution_{resolution}_itajai.geojson', 'w') as file:\n",
    "        json.dump(geojson, file)\n"
   ]
  },
  {
   "cell_type": "code",
   "execution_count": 4,
   "metadata": {},
   "outputs": [],
   "source": [
    "# Generate GeoJSON for resolutions 10 to 15\n",
    "for resolution in range(5, 13):\n",
    "    generate_geojson_for_resolution(resolution, bounding_box_geojson)"
   ]
  }
 ],
 "metadata": {
  "kernelspec": {
   "display_name": "geo",
   "language": "python",
   "name": "python3"
  },
  "language_info": {
   "codemirror_mode": {
    "name": "ipython",
    "version": 3
   },
   "file_extension": ".py",
   "mimetype": "text/x-python",
   "name": "python",
   "nbconvert_exporter": "python",
   "pygments_lexer": "ipython3",
   "version": "3.11.4"
  },
  "orig_nbformat": 4
 },
 "nbformat": 4,
 "nbformat_minor": 2
}
