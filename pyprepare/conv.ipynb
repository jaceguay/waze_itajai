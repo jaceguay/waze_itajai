{
 "cells": [
  {
   "cell_type": "code",
   "execution_count": 1,
   "metadata": {},
   "outputs": [],
   "source": [
    "import os\n",
    "import json\n",
    "import csv"
   ]
  },
  {
   "cell_type": "code",
   "execution_count": 2,
   "metadata": {},
   "outputs": [],
   "source": [
    "# Specify the folder where your .geojson files are located\n",
    "folder_path = 'todos'\n",
    "\n",
    "# Name of the output CSV file\n",
    "output_csv = 'todos.csv'\n"
   ]
  },
  {
   "cell_type": "code",
   "execution_count": 3,
   "metadata": {},
   "outputs": [],
   "source": [
    "def process_geojson(file_path):\n",
    "    with open(file_path, 'r') as f:\n",
    "        data = json.load(f)\n",
    "\n",
    "    # Assuming that your .geojson has a 'features' key\n",
    "    for feature in data['features']:\n",
    "        props = feature['properties']\n",
    "        \n",
    "        # Extracting and formatting the necessary fields\n",
    "        index = props.get('index', '')\n",
    "        day = props.get('day', '')\n",
    "        hour = props.get('hour', '')\n",
    "        formatted_datahora = f\"{day} {hour}:00:00\"\n",
    "        speedKMH = props.get('speedKMH', '')\n",
    "        nome = props.get('nome', '')\n",
    "        x = props.get('x', '')\n",
    "        y = props.get('y', '')\n",
    "        dia_semana = props.get('dia_semana', '')\n",
    "        \n",
    "        yield [index, formatted_datahora, speedKMH, nome, x, y, dia_semana]"
   ]
  },
  {
   "cell_type": "code",
   "execution_count": 4,
   "metadata": {},
   "outputs": [],
   "source": [
    "# Open the output CSV file for writing\n",
    "with open(output_csv, 'w', newline='') as csvfile:\n",
    "    writer = csv.writer(csvfile)\n",
    "    \n",
    "    # Write header\n",
    "    writer.writerow(['index', 'datahora', 'speedKMH', 'nome', 'x', 'y', 'dia_semana'])\n",
    "\n",
    "    # Process each .geojson file in the folder\n",
    "    for filename in os.listdir(folder_path):\n",
    "        if filename.endswith('.geojson'):\n",
    "            full_path = os.path.join(folder_path, filename)\n",
    "            for row in process_geojson(full_path):\n",
    "                writer.writerow(row)"
   ]
  }
 ],
 "metadata": {
  "kernelspec": {
   "display_name": "jaceguay-r50AaqW_",
   "language": "python",
   "name": "python3"
  },
  "language_info": {
   "codemirror_mode": {
    "name": "ipython",
    "version": 3
   },
   "file_extension": ".py",
   "mimetype": "text/x-python",
   "name": "python",
   "nbconvert_exporter": "python",
   "pygments_lexer": "ipython3",
   "version": "3.11.2"
  },
  "orig_nbformat": 4
 },
 "nbformat": 4,
 "nbformat_minor": 2
}
