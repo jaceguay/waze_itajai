{
 "cells": [
  {
   "cell_type": "code",
   "execution_count": 1,
   "metadata": {},
   "outputs": [],
   "source": [
    "import os\n",
    "import json\n",
    "import csv"
   ]
  },
  {
   "cell_type": "code",
   "execution_count": 2,
   "metadata": {},
   "outputs": [],
   "source": [
    "def process_geojsons_to_csv(source_dir):\n",
    "    # Ensure the source directory exists\n",
    "    if not os.path.exists(source_dir):\n",
    "        print(f\"Error: {source_dir} does not exist!\")\n",
    "        return\n",
    "\n",
    "    # Create a function to write to CSV\n",
    "    def write_to_csv(year, data):\n",
    "        csv_path = os.path.join(source_dir, f\"{year}.csv\")\n",
    "        mode = 'a' if os.path.exists(csv_path) else 'w'\n",
    "        \n",
    "        with open(csv_path, mode, newline='') as csvfile:\n",
    "            csvwriter = csv.writer(csvfile)\n",
    "            if mode == 'w':\n",
    "                csvwriter.writerow(['filename', 'mean_speedKMH'])  # Header\n",
    "            csvwriter.writerow(data)\n",
    "\n",
    "    # Iterate over each file in the source directory\n",
    "    for filename in os.listdir(source_dir):\n",
    "        # Check if the file is a geojson\n",
    "        if filename.endswith('.geojson'):\n",
    "            with open(os.path.join(source_dir, filename), 'r') as file:\n",
    "                # Load the geojson content\n",
    "                geojson_data = json.load(file)\n",
    "\n",
    "                speeds = [feature.get('properties', {}).get('speedKMH', 0) for feature in geojson_data.get('features', [])]\n",
    "                mean_speed = sum(speeds) / len(speeds) if speeds else 0\n",
    "\n",
    "                # Extract year based on the first feature\n",
    "                properties_first = geojson_data.get('features', [{}])[0].get('properties', {})\n",
    "                day_first = properties_first.get('day', '')\n",
    "                hour_first = properties_first.get('hour', '')\n",
    "                year_first = day_first[:4]\n",
    "                formatted_name = f\"{year_first}-{day_first[5:7]}-{day_first[8:10]}-{hour_first}\"\n",
    "\n",
    "                # Write to the CSV\n",
    "                write_to_csv(year_first, [formatted_name, mean_speed])\n",
    "\n",
    "    print(\"Processing complete!\")"
   ]
  },
  {
   "cell_type": "code",
   "execution_count": 3,
   "metadata": {},
   "outputs": [
    {
     "name": "stdout",
     "output_type": "stream",
     "text": [
      "Processing complete!\n"
     ]
    }
   ],
   "source": [
    "# Example usage:\n",
    "process_geojsons_to_csv('todos')"
   ]
  }
 ],
 "metadata": {
  "kernelspec": {
   "display_name": "jaceguay-r50AaqW_",
   "language": "python",
   "name": "python3"
  },
  "language_info": {
   "codemirror_mode": {
    "name": "ipython",
    "version": 3
   },
   "file_extension": ".py",
   "mimetype": "text/x-python",
   "name": "python",
   "nbconvert_exporter": "python",
   "pygments_lexer": "ipython3",
   "version": "3.11.2"
  },
  "orig_nbformat": 4
 },
 "nbformat": 4,
 "nbformat_minor": 2
}
