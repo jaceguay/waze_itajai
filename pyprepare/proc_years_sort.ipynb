{
 "cells": [
  {
   "cell_type": "code",
   "execution_count": 1,
   "metadata": {},
   "outputs": [],
   "source": [
    "import os\n",
    "import csv"
   ]
  },
  {
   "cell_type": "code",
   "execution_count": 2,
   "metadata": {},
   "outputs": [],
   "source": [
    "\n",
    "\n",
    "def custom_sort_key(filename):\n",
    "    # Split the filename into parts\n",
    "    parts = filename.split('-')\n",
    "    # Add a leading zero to the hour for sorting purposes\n",
    "    hour_with_leading_zero = parts[3].zfill(2)\n",
    "    # Return a tuple to sort by\n",
    "    return (parts[0], parts[1], parts[2], hour_with_leading_zero)\n",
    "\n",
    "def process_csv_files(directory):\n",
    "    # Ensure the directory exists\n",
    "    if not os.path.exists(directory):\n",
    "        print(f\"Error: {directory} does not exist!\")\n",
    "        return\n",
    "\n",
    "    # Iterate over each file in the directory\n",
    "    for filename in os.listdir(directory):\n",
    "        # Check if the file is a CSV\n",
    "        if filename.endswith('.csv'):\n",
    "            filepath = os.path.join(directory, filename)\n",
    "            rows = []\n",
    "            with open(filepath, 'r') as csvfile:\n",
    "                reader = csv.reader(csvfile)\n",
    "                header = next(reader)  # Extract header\n",
    "                for row in reader:\n",
    "                    # Round the mean_speedKMH value to the nearest whole number\n",
    "                    row[1] = round(float(row[1]))\n",
    "                    rows.append(row)\n",
    "            \n",
    "            # Sort rows based on the custom sort key\n",
    "            rows.sort(key=lambda x: custom_sort_key(x[0]))\n",
    "            \n",
    "            # Write back to the CSV\n",
    "            with open(filepath, 'w', newline='') as csvfile:\n",
    "                writer = csv.writer(csvfile)\n",
    "                writer.writerow(header)  # Write header\n",
    "                writer.writerows(rows)\n",
    "\n",
    "    print(\"Processing complete!\")\n",
    "\n",
    "# Example usage:\n",
    "# process_csv_files('/path/to/your/csv/directory')\n"
   ]
  },
  {
   "cell_type": "code",
   "execution_count": 3,
   "metadata": {},
   "outputs": [
    {
     "name": "stdout",
     "output_type": "stream",
     "text": [
      "Processing complete!\n"
     ]
    }
   ],
   "source": [
    "# Example usage:\n",
    "process_csv_files('anos')"
   ]
  }
 ],
 "metadata": {
  "kernelspec": {
   "display_name": "jaceguay-r50AaqW_",
   "language": "python",
   "name": "python3"
  },
  "language_info": {
   "codemirror_mode": {
    "name": "ipython",
    "version": 3
   },
   "file_extension": ".py",
   "mimetype": "text/x-python",
   "name": "python",
   "nbconvert_exporter": "python",
   "pygments_lexer": "ipython3",
   "version": "3.11.2"
  },
  "orig_nbformat": 4
 },
 "nbformat": 4,
 "nbformat_minor": 2
}
