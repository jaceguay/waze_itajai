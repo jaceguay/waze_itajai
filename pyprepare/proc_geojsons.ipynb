{
 "cells": [
  {
   "cell_type": "code",
   "execution_count": 1,
   "metadata": {},
   "outputs": [],
   "source": [
    "import os\n",
    "import json"
   ]
  },
  {
   "cell_type": "code",
   "execution_count": 2,
   "metadata": {},
   "outputs": [],
   "source": [
    "def process_geojsons(source_dir):\n",
    "    # Ensure the source directory exists\n",
    "    if not os.path.exists(source_dir):\n",
    "        print(f\"Error: {source_dir} does not exist!\")\n",
    "        return\n",
    "\n",
    "    # Iterate over each file in the source directory\n",
    "    for filename in os.listdir(source_dir):\n",
    "        # Check if the file is a geojson\n",
    "        if filename.endswith('.geojson'):\n",
    "            with open(os.path.join(source_dir, filename), 'r') as file:\n",
    "                # Load the geojson content\n",
    "                geojson_data = json.load(file)\n",
    "\n",
    "                new_features = []\n",
    "                for feature in geojson_data.get('features', []):\n",
    "                    properties = feature.get('properties', {})\n",
    "                    x = properties.get('x', '')\n",
    "                    y = properties.get('y', '')\n",
    "                    speedKMH = properties.get('speedKMH', '')\n",
    "\n",
    "                    # Create the new geojson feature\n",
    "                    new_feature = {\n",
    "                        \"type\": \"Feature\",\n",
    "                        \"geometry\": {\n",
    "                            \"type\": \"Point\",\n",
    "                            \"coordinates\": [x, y]\n",
    "                        },\n",
    "                        \"properties\": {\n",
    "                            \"speedKMH\": speedKMH\n",
    "                        }\n",
    "                    }\n",
    "                    new_features.append(new_feature)\n",
    "\n",
    "                # Set the new directory and filename based on the first feature\n",
    "                properties_first = geojson_data.get('features', [{}])[\n",
    "                    0].get('properties', {})\n",
    "                day_first = properties_first.get('day', '')\n",
    "                hour_first = properties_first.get('hour', '')\n",
    "                year_first = day_first[:4]\n",
    "                new_dir = os.path.join(source_dir, year_first)\n",
    "                new_filename = f\"{year_first}-{day_first[5:7]}-{day_first[8:10]}-{hour_first}.geojson\"\n",
    "\n",
    "                # Ensure the new directory exists\n",
    "                if not os.path.exists(new_dir):\n",
    "                    os.makedirs(new_dir)\n",
    "\n",
    "                # Write the new geojson content to the new file immediately\n",
    "                with open(os.path.join(new_dir, new_filename), 'w') as new_file:\n",
    "                    json.dump({\n",
    "                        \"type\": \"FeatureCollection\",\n",
    "                        \"features\": new_features\n",
    "                    }, new_file)\n",
    "\n",
    "    print(\"Processing complete!\")"
   ]
  },
  {
   "cell_type": "code",
   "execution_count": 3,
   "metadata": {},
   "outputs": [
    {
     "name": "stdout",
     "output_type": "stream",
     "text": [
      "Processing complete!\n"
     ]
    }
   ],
   "source": [
    "# Example usage:\n",
    "process_geojsons('todos')"
   ]
  }
 ],
 "metadata": {
  "kernelspec": {
   "display_name": "jaceguay-r50AaqW_",
   "language": "python",
   "name": "python3"
  },
  "language_info": {
   "codemirror_mode": {
    "name": "ipython",
    "version": 3
   },
   "file_extension": ".py",
   "mimetype": "text/x-python",
   "name": "python",
   "nbconvert_exporter": "python",
   "pygments_lexer": "ipython3",
   "version": "3.11.2"
  },
  "orig_nbformat": 4
 },
 "nbformat": 4,
 "nbformat_minor": 2
}
